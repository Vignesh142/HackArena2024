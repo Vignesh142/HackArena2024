{
 "cells": [
  {
   "cell_type": "code",
   "execution_count": null,
   "metadata": {},
   "outputs": [],
   "source": [
    "import pandas as pd\n",
    "import nltk\n",
    "from sklearn.feature_extraction.text import TfidfVectorizer\n",
    "from sklearn.decomposition import LatentDirichletAllocation\n",
    "from wordcloud import WordCloud\n",
    "import matplotlib.pyplot as plt\n",
    "from vaderSentiment.vaderSentiment import SentimentIntensityAnalyzer\n",
    "\n",
    "# Load customer queries data\n",
    "data = pd.read_csv('customer_queries.csv')  # Assuming a CSV file with a \"query\" column\n",
    "queries = data['query']\n",
    "\n",
    "# Initialize sentiment analyzer\n",
    "analyzer = SentimentIntensityAnalyzer()\n",
    "\n",
    "# Preprocess Text\n",
    "def preprocess_text(text):\n",
    "    tokens = nltk.word_tokenize(text.lower())  # Tokenize and lowercase\n",
    "    tokens = [t for t in tokens if t.isalnum()]  # Remove punctuation\n",
    "    return ' '.join(tokens)\n",
    "\n",
    "data['cleaned_query'] = data['query'].apply(preprocess_text)\n",
    "\n",
    "# Sentiment Analysis\n",
    "data['sentiment'] = data['cleaned_query'].apply(lambda x: analyzer.polarity_scores(x)['compound'])\n",
    "\n",
    "# Visualize Sentiment Distribution\n",
    "plt.hist(data['sentiment'], bins=20, color='skyblue')\n",
    "plt.title('Sentiment Distribution of Customer Queries')\n",
    "plt.xlabel('Sentiment Score')\n",
    "plt.ylabel('Frequency')\n",
    "plt.show()\n",
    "\n",
    "# TF-IDF Vectorization\n",
    "tfidf_vectorizer = TfidfVectorizer(max_features=1000, stop_words='english')\n",
    "tfidf_matrix = tfidf_vectorizer.fit_transform(data['cleaned_query'])\n",
    "\n",
    "# Topic Modeling with LDA\n",
    "lda = LatentDirichletAllocation(n_components=5, random_state=42)\n",
    "lda.fit(tfidf_matrix)\n",
    "\n",
    "# Display top words in each topic\n",
    "for i, topic in enumerate(lda.components_):\n",
    "    topic_words = [tfidf_vectorizer.get_feature_names_out()[index] for index in topic.argsort()[-10:]]\n",
    "    print(f\"Topic {i+1}: {' '.join(topic_words)}\")\n",
    "\n",
    "# Generate Word Cloud for Frequently Used Words\n",
    "wordcloud = WordCloud(width=800, height=400, background_color='white').generate(' '.join(data['cleaned_query']))\n",
    "plt.imshow(wordcloud, interpolation='bilinear')\n",
    "plt.axis('off')\n",
    "plt.show()\n"
   ]
  }
 ],
 "metadata": {
  "kernelspec": {
   "display_name": "venv",
   "language": "python",
   "name": "python3"
  },
  "language_info": {
   "name": "python",
   "version": "3.12.2"
  }
 },
 "nbformat": 4,
 "nbformat_minor": 2
}
